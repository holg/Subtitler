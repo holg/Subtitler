{
 "cells": [
  {
   "cell_type": "code",
   "execution_count": 45,
   "metadata": {
    "collapsed": false
   },
   "outputs": [],
   "source": [
    "import os\n",
    "import sys\n",
    "import glob\n",
    "import hashlib\n",
    "import requests\n",
    "import json\n",
    "import PTN\n",
    "import time"
   ]
  },
  {
   "cell_type": "code",
   "execution_count": 46,
   "metadata": {
    "collapsed": false
   },
   "outputs": [],
   "source": [
    "tvdb_body = {\n",
    "  \"apikey\": \"E62F359CBED77E8F\",\n",
    "  \"userkey\": \"1F622103F7226028\",\n",
    "  \"username\": \"rubenwap\"\n",
    "}\n",
    "header = {\n",
    "    \"Content-Type\" : \"application/json\"\n",
    "}"
   ]
  },
  {
   "cell_type": "code",
   "execution_count": 47,
   "metadata": {
    "collapsed": false
   },
   "outputs": [],
   "source": [
    "r = requests.post(\"https://api.thetvdb.com/login\", headers=header, data=json.dumps(tvdb_body))"
   ]
  },
  {
   "cell_type": "code",
   "execution_count": 48,
   "metadata": {
    "collapsed": false
   },
   "outputs": [],
   "source": [
    "tvdb_token = r.json()[\"token\"]\n",
    "\n",
    "header_auth = { \n",
    "    \"Content-Type\" : \"application/json\",\n",
    "    \"Authorization\" : \"Bearer {}\".format(tvdb_token)\n",
    "}"
   ]
  },
  {
   "cell_type": "code",
   "execution_count": 49,
   "metadata": {
    "collapsed": true
   },
   "outputs": [],
   "source": [
    "def get_hash(name):\n",
    "    readsize = 64 * 1024\n",
    "    with open(name, 'rb') as f:\n",
    "        size = os.path.getsize(name)\n",
    "        data = f.read(readsize)\n",
    "        f.seek(-readsize, os.SEEK_END)\n",
    "        data += f.read(readsize)\n",
    "    return hashlib.md5(data).hexdigest()"
   ]
  },
  {
   "cell_type": "code",
   "execution_count": 51,
   "metadata": {
    "collapsed": false
   },
   "outputs": [],
   "source": [
    "hashes = []\n",
    "types = [\"**/*mp4\", \"**/*.mkv\"]\n",
    "\n",
    "for single_type in types:\n",
    "    for file in (glob.glob(single_type)):\n",
    "        video = {}\n",
    "        video[\"hash\"] = (get_hash(file))\n",
    "        video[\"filename\"] = (file)\n",
    "        hashes.append(video)\n"
   ]
  },
  {
   "cell_type": "code",
   "execution_count": 52,
   "metadata": {
    "collapsed": false
   },
   "outputs": [],
   "source": [
    "headers = {\n",
    "    'User-Agent': 'SubDB/1.0 (Subtest/0.1; http://github.com/not_yet)',\n",
    "}\n",
    "\n",
    "url_search = 'http://api.thesubdb.com/?action=search&hash={}'\n",
    "url_download = 'http://api.thesubdb.com/?action=download&hash={}&language=en,es'\n",
    "\n",
    "\n",
    "for video in hashes:\n",
    "    response = requests.get(url_search.format(video[\"hash\"]), headers=headers)\n",
    "    if ('en' or 'es') in response.text:\n",
    "        download = requests.get(url_download.format(video[\"hash\"]), headers=headers)\n",
    "        with open(\"{}.srt\".format(video[\"filename\"][:-4]), \"wb\") as subtitle:\n",
    "            subtitle.write(download.content)\n"
   ]
  },
  {
   "cell_type": "code",
   "execution_count": 53,
   "metadata": {
    "collapsed": false
   },
   "outputs": [],
   "source": [
    "for video in hashes:\n",
    "    metadata = PTN.parse(video[\"filename\"][video[\"filename\"].find(\"/\")+1:])\n",
    "    id_req = requests.get(\"https://api.thetvdb.com/search/series?name={}\".format(metadata[\"title\"]), headers=header_auth)\n",
    "    video[\"id\"] = id_req.json()[\"data\"][0][\"id\"]\n",
    "    video[\"Series\"] = id_req.json()[\"data\"][0][\"seriesName\"]\n",
    "    ep_req = requests.get(\"https://api.thetvdb.com/series/{}/episodes/query?airedSeason={}&airedEpisode={}&Accept-Language=en\".format(video[\"id\"],metadata[\"season\"],metadata[\"episode\"]), headers=header_auth)\n",
    "    video[\"Name\"] = ep_req.json()[\"data\"][0][\"episodeName\"]\n",
    "    video[\"Season\"] = str(ep_req.json()[\"data\"][0][\"airedSeason\"])\n",
    "    video[\"Episode\"] = str(ep_req.json()[\"data\"][0][\"airedEpisodeNumber\"])\n",
    "    \n",
    "\n"
   ]
  },
  {
   "cell_type": "code",
   "execution_count": 55,
   "metadata": {
    "collapsed": true
   },
   "outputs": [],
   "source": [
    "cwd = os.getcwd()"
   ]
  },
  {
   "cell_type": "code",
   "execution_count": 57,
   "metadata": {
    "collapsed": false,
    "scrolled": true
   },
   "outputs": [
    {
     "name": "stdout",
     "output_type": "stream",
     "text": [
      "/Users/ruben/Code/subtitler/SublerCLI -dest /Users/ruben/Code/subtitler/test/game.of.thrones.s07e05.720p.web.h264-tbs.m4v -metadata '{Name:Eastwatch}{TV Show:Game of Thrones}{TV Season:7}{TV Episode #:5}{Media Kind:TV Show}' -optimize -source /Users/ruben/Code/subtitler/test/game.of.thrones.s07e05.720p.web.h264-tbs.mkv\n"
     ]
    }
   ],
   "source": [
    "for video in hashes:\n",
    "    \n",
    "    name = video[\"Name\"]\n",
    "    tvshow = video[\"Series\"]\n",
    "    season = video[\"Season\"]\n",
    "    episode = video[\"Episode\"]\n",
    "    \n",
    "    subler_command = r\"{}/SublerCLI -dest {}/{} -metadata '{}' -optimize -source {}/{}\".format(cwd, cwd,video[\"filename\"][0:-3] + \"m4v\", \"{Name:\"+name+\"}{TV Show:\"+tvshow+\"}{TV Season:\"+season+\"}{TV Episode #:\"+episode+\"}{Media Kind:TV Show}\",cwd, video[\"filename\"])\n",
    "    subler_command_srt = r\"'{}/SublerCLI' -source '{}/{}' -language English -dest '{}/{}'\".format(cwd, cwd,video[\"filename\"][0:-3] + \"srt\", cwd, video[\"filename\"][0:-3] + \"m4v\")\n",
    "\n",
    "    subler = Subler(\"{}/{}\".format(cwd, video[\"filename\"][0:-3] + \"m4v\"), dest=\"{}/{}\".format(cwd, \"tagged_\" + video[\"filename\"][0:-3] + \"m4v\"), metadata=metadata, media_kind=\"TV Show\")\n",
    "    print(subler_command)\n",
    "    os.system(subler_command)\n",
    "    os.system(subler_command_srt)\n",
    "    os.rename(video[\"filename\"][0:-3]+\"m4v\", \"/Users/ruben/Music/iTunes/iTunes Media/Automatically Add to iTunes.localized/\"+video[\"filename\"][video[\"filename\"].find(\"/\")+1:-3]+\"m4v\")\n",
    "    \n",
    "    "
   ]
  },
  {
   "cell_type": "code",
   "execution_count": null,
   "metadata": {
    "collapsed": false
   },
   "outputs": [],
   "source": [
    "\n"
   ]
  },
  {
   "cell_type": "code",
   "execution_count": null,
   "metadata": {
    "collapsed": false
   },
   "outputs": [],
   "source": []
  },
  {
   "cell_type": "code",
   "execution_count": null,
   "metadata": {
    "collapsed": true
   },
   "outputs": [],
   "source": []
  },
  {
   "cell_type": "code",
   "execution_count": null,
   "metadata": {
    "collapsed": true
   },
   "outputs": [],
   "source": []
  },
  {
   "cell_type": "code",
   "execution_count": null,
   "metadata": {
    "collapsed": true
   },
   "outputs": [],
   "source": []
  },
  {
   "cell_type": "code",
   "execution_count": null,
   "metadata": {
    "collapsed": true
   },
   "outputs": [],
   "source": []
  },
  {
   "cell_type": "code",
   "execution_count": null,
   "metadata": {
    "collapsed": true
   },
   "outputs": [],
   "source": []
  }
 ],
 "metadata": {
  "kernelspec": {
   "display_name": "Python 3",
   "language": "python",
   "name": "python3"
  },
  "language_info": {
   "codemirror_mode": {
    "name": "ipython",
    "version": 3
   },
   "file_extension": ".py",
   "mimetype": "text/x-python",
   "name": "python",
   "nbconvert_exporter": "python",
   "pygments_lexer": "ipython3",
   "version": "3.6.0"
  }
 },
 "nbformat": 4,
 "nbformat_minor": 2
}
